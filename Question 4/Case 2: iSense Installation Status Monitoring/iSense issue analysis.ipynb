{
 "cells": [
  {
   "cell_type": "code",
   "execution_count": null,
   "id": "72834d58",
   "metadata": {},
   "outputs": [],
   "source": [
    "import pandas as pd\n",
    "\n",
    "df_issue = pd.read_excel(r\"D:\\Astragraphia\\iSense Issues\\issue_jul_2023.xlsx\")\n",
    "cis_bbi = pd.read_excel(r\"D:\\Astragraphia\\iSense Issues\\jul_2023_clean.xlsx\")\n",
    "print(cis_bbi.info())\n",
    "cis_bbi.drop(columns='Unnamed: 0', inplace=True)\n",
    "print(cis_bbi.info())"
   ]
  },
  {
   "cell_type": "code",
   "execution_count": null,
   "id": "a1f533c4",
   "metadata": {},
   "outputs": [],
   "source": [
    "list(df_issue.columns)\n",
    "testing = list()\n",
    "dictCols = dict()\n",
    "for i in list(df_issue.columns):\n",
    "    x = ''.join(i.split('\\xa0'))\n",
    "    y = x.strip()\n",
    "    testing.append(y)\n",
    "for i,j in zip(list(df_issue.columns),testing):\n",
    "    dictCols[i] = j\n",
    "\n",
    "df_issue.rename(columns=dictCols, inplace=True)"
   ]
  },
  {
   "cell_type": "code",
   "execution_count": null,
   "id": "8ecd8336",
   "metadata": {},
   "outputs": [],
   "source": [
    "df_issue.info()"
   ]
  },
  {
   "cell_type": "code",
   "execution_count": null,
   "id": "38afed76",
   "metadata": {},
   "outputs": [],
   "source": [
    "unique_list = list(df_issue.Alasan.unique())\n",
    "map_list = list(enumerate(list(df_issue.Alasan.unique())))\n",
    "map_group = dict()\n",
    "for i,j in zip(map_list, unique_list):\n",
    "    map_group[j] = i[0]+1"
   ]
  },
  {
   "cell_type": "code",
   "execution_count": null,
   "id": "4414bd49",
   "metadata": {},
   "outputs": [],
   "source": [
    "df_issue['Grup Alasan'] = df_issue['Alasan'].map(map_group)\n",
    "print(map_group,'\\n')\n",
    "print(df_issue.head(2))"
   ]
  },
  {
   "cell_type": "code",
   "execution_count": null,
   "id": "e22420e6",
   "metadata": {},
   "outputs": [],
   "source": [
    "df_issue['Grup Alasan'].value_counts()"
   ]
  },
  {
   "cell_type": "code",
   "execution_count": null,
   "id": "cca414f3",
   "metadata": {},
   "outputs": [],
   "source": [
    "df_issue.to_excel('D:\\Astragraphia\\iSense Issues\\jul_2023_clean.xlsx')"
   ]
  },
  {
   "cell_type": "code",
   "execution_count": null,
   "id": "d4a5337a",
   "metadata": {},
   "outputs": [],
   "source": [
    "print(list(map_group.keys()))\n",
    "df_issue['Alasan'].replace('Jaringan bermasalah',list(map_group.keys())[2], inplace=True)"
   ]
  },
  {
   "cell_type": "code",
   "execution_count": null,
   "id": "6a0c1d30",
   "metadata": {},
   "outputs": [],
   "source": [
    "df_issue['Grup Alasan'] = df_issue['Alasan'].map(map_group)\n",
    "df_issue.to_excel('D:\\Astragraphia\\iSense Issues\\jul_2023_clean.xlsx')"
   ]
  },
  {
   "cell_type": "code",
   "execution_count": null,
   "id": "c3a57ebc",
   "metadata": {},
   "outputs": [],
   "source": [
    "print(cis_bbi['Status Isense'].unique())\n",
    "cis_bbi['Status Isense'].replace(['\\xa0\\xa0 BBI','\\xa0\\xa0 CIS'],['BBI','CIS'], inplace=True)\n",
    "cis_bbi_clean = cis_bbi.loc[cis_bbi['Status Isense'].isin(['CIS','BBI'])]"
   ]
  },
  {
   "cell_type": "code",
   "execution_count": null,
   "id": "9dff33a0",
   "metadata": {},
   "outputs": [],
   "source": [
    "cis_bbi_clean.head()"
   ]
  },
  {
   "cell_type": "code",
   "execution_count": null,
   "id": "1236e219",
   "metadata": {},
   "outputs": [],
   "source": [
    "from openpyxl import load_workbook\n",
    "\n",
    "path = r\"D:\\Astragraphia\\iSense Issues\\jul_2023_clean.xlsx\"\n",
    "book = load_workbook(path)\n",
    "writer = pd.ExcelWriter(path, engine='openpyxl')\n",
    "writer.book = book\n",
    "cis_bbi_clean.to_excel(writer, sheet_name = \"Cleaned Data\")\n",
    "writer.close()"
   ]
  }
 ],
 "metadata": {
  "kernelspec": {
   "display_name": "Python 3 (ipykernel)",
   "language": "python",
   "name": "python3"
  },
  "language_info": {
   "codemirror_mode": {
    "name": "ipython",
    "version": 3
   },
   "file_extension": ".py",
   "mimetype": "text/x-python",
   "name": "python",
   "nbconvert_exporter": "python",
   "pygments_lexer": "ipython3",
   "version": "3.11.3"
  }
 },
 "nbformat": 4,
 "nbformat_minor": 5
}
