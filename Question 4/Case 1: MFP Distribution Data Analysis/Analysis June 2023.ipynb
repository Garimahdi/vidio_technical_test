{
 "cells": [
  {
   "cell_type": "code",
   "execution_count": null,
   "id": "25434f6e",
   "metadata": {},
   "outputs": [],
   "source": [
    "import pandas as pd\n",
    "import numpy as np\n",
    "import matplotlib.pyplot as pyl\n",
    "import datetime\n",
    "from openpyxl import load_workbook\n",
    "\n",
    "df_june = pd.read_excel(r'D:\\Data Shelter\\Kerjaan\\Astragraphia\\BO1\\Revenue Analysis_jan-jul\\2023 Datasets\\MIF Jun 2023.xlsx', \n",
    "                        sheet_name='MIF Jun 2023 running 28 Jun 23')\n",
    "\n",
    "df_june_acct = pd.read_excel(r'D:\\Data Shelter\\Kerjaan\\Astragraphia\\BO1\\Revenue Analysis_jan-jul\\2023 Datasets\\mif_mei_rev_v1.xlsx',\n",
    "                        sheet_name='Acct Mapping')\n",
    "#print(df_june.info())\n",
    "print(df_june_acct.shape)"
   ]
  },
  {
   "cell_type": "code",
   "execution_count": null,
   "id": "f456b75a",
   "metadata": {},
   "outputs": [],
   "source": [
    "import gspread\n",
    "from gspread_dataframe import set_with_dataframe\n",
    "from google.oauth2.service_account import Credentials\n",
    "from google_auth_oauthlib.flow import InstalledAppFlow, Flow\n",
    "from google.auth.transport.requests import Request\n",
    "from pydrive.auth import GoogleAuth\n",
    "from pydrive.drive import GoogleDrive\n",
    "\n",
    "scopes = [\n",
    "    'https://www.googleapis.com/auth/spreadsheets',\n",
    "    'https://www.googleapis.com/auth/drive'\n",
    "]\n",
    "credFile = r'D:\\Data Shelter\\Kerjaan\\Astragraphia\\BO1\\Revenue Analysis_jan-jul\\2023 Datasets\\spreadsheet-stuff-387510-ad57904e68e8.json'\n",
    "\n",
    "creds = Credentials.from_service_account_file(credFile, scopes=scopes)\n",
    "gSpreadAuth = gspread.authorize(creds)\n",
    "gAuth = GoogleAuth()\n",
    "gDrive = GoogleDrive(gAuth)\n",
    "gSpreadOpen = gSpreadAuth.open_by_key('1vPt9Lqkbj2FilGmVsDoPAv4BP-bs_7vkSO1mi-e0-V8')\n",
    "\n",
    "gSpread_details_tab = gSpreadOpen.worksheet('Details')"
   ]
  },
  {
   "cell_type": "code",
   "execution_count": null,
   "id": "2e49d629",
   "metadata": {},
   "outputs": [],
   "source": [
    "details_tab = gSpread_details_tab.get_all_records()\n",
    "\n",
    "df_may = pd.DataFrame(details_tab)\n",
    "\n",
    "print(df_may.info())"
   ]
  },
  {
   "cell_type": "code",
   "execution_count": null,
   "id": "4ec178bb",
   "metadata": {},
   "outputs": [],
   "source": [
    "# Acct Mapping\n",
    "df_june_acct = df_june_acct.astype({'Acct':str})\n",
    "\n",
    "map_sales = dict(df_june_acct.values)\n",
    "df_june['Sales'] = df_june['Acct'].map(map_sales)\n",
    "print(df_june.info())\n",
    "print(map_sales)"
   ]
  },
  {
   "cell_type": "code",
   "execution_count": null,
   "id": "5c546a1b",
   "metadata": {},
   "outputs": [],
   "source": [
    "print(df_june.loc[df_june['Utilisasi '] == '-'].head(2))"
   ]
  },
  {
   "cell_type": "code",
   "execution_count": null,
   "id": "8a90b45f",
   "metadata": {},
   "outputs": [],
   "source": [
    "#df_gcs = df_june.loc[df_june['Utilisasi '] == '-']\n",
    "#print(df_june['Class_Utilisasi'].unique())\n",
    "#print(df_june.info())\n",
    "\n",
    "#try:\n",
    "#    if df_gcs['Utilisasi '].any() == '-':\n",
    "#        df_gcs['Utilisasi '].replace('-', float(0), inplace=True)\n",
    "#        df_gcs['Utilisasi '] = (df_gcs['Ave Tot  MoP BW'] + df_gcs['Ave Tot  MoP Color'])/(df_gcs['Speed'] * 60 * 8 * 23)\n",
    "#except Exception as e:\n",
    "#    print(e)\n",
    "    \n",
    "# THE MACHINE'S SPEED DATA IS NOT COMPLETED, CANNOT BE PROCEEDED"
   ]
  },
  {
   "cell_type": "code",
   "execution_count": null,
   "id": "f313c3ff",
   "metadata": {
    "scrolled": true
   },
   "outputs": [],
   "source": [
    "df_june['InstDate'] = pd.to_datetime(df_june['InstDate'])"
   ]
  },
  {
   "cell_type": "code",
   "execution_count": null,
   "id": "fcb071fe",
   "metadata": {},
   "outputs": [],
   "source": [
    "#df_june['InstDate'] = pd.to_datetime(df_june['InstDate'], format='%Y-%m-%d')\n",
    "df_june['InstDate'] = df_june['InstDate'].apply(lambda x: x.strftime('%Y-%m-%d'))"
   ]
  },
  {
   "cell_type": "code",
   "execution_count": null,
   "id": "991511bc",
   "metadata": {},
   "outputs": [],
   "source": [
    "df_june['InstDate'].head()\n",
    "df_june.drop(columns='No', inplace=True)\n",
    "\n",
    "df_june.to_excel(\n",
    "    r'D:\\Data Shelter\\Kerjaan\\Astragraphia\\BO1\\Revenue Analysis_jan-jul\\2023 Datasets\\MIF Juni Clean.xlsx',\n",
    "    sheet_name='Details'\n",
    "                )"
   ]
  },
  {
   "cell_type": "code",
   "execution_count": null,
   "id": "83364014",
   "metadata": {},
   "outputs": [],
   "source": [
    "df_juni = pd.read_excel(\n",
    "    r\"D:\\Data Shelter\\Kerjaan\\Astragraphia\\BO1\\Revenue Analysis_jan-jul\\2023 Datasets\\MIF Juni Clean.xlsx\",\n",
    "    sheet_name='Details (wo GCS)'\n",
    ")\n",
    "df_sales_data = df_juni[['Acct','Sales']]\n",
    "print(len(list(df_sales_data['Acct'].unique())))\n",
    "\n",
    "df_sales_data.drop_duplicates(subset='Acct', inplace=True)\n",
    "print(df_sales_data.shape)"
   ]
  },
  {
   "cell_type": "code",
   "execution_count": null,
   "id": "7a6cd1e2",
   "metadata": {},
   "outputs": [],
   "source": [
    "df_sales_data.to_excel(r'D:\\Data Shelter\\Kerjaan\\Astragraphia\\BO1\\Revenue Analysis_jan-jul\\Sales Dataset\\sales.xlsx')"
   ]
  },
  {
   "cell_type": "code",
   "execution_count": null,
   "id": "9f884fd4",
   "metadata": {},
   "outputs": [],
   "source": [
    "# Pivoting sales vs industry\n",
    "\n",
    "df_juni['desc'] = df_juni['Industry Desc']\n",
    "df_sales_ind = df_juni.pivot_table(index='Sales', columns='Industry Desc', values='Unit', aggfunc='sum').fillna(0).astype(int)\n",
    "df_sales_ind"
   ]
  },
  {
   "cell_type": "code",
   "execution_count": null,
   "id": "adf770fa",
   "metadata": {},
   "outputs": [],
   "source": [
    "# EDS devices only\n",
    "\n",
    "df_juni['MBU'].unique()\n",
    "df_juni_eds = df_juni.loc[(df_juni['MBU'] != 'GCS') & (df_juni['MBU'] != 'ES')]\n",
    "\n",
    "df_juni.drop(columns='desc', inplace=True)\n",
    "df_juni_eds.drop(columns='desc', inplace=True)\n",
    "\n",
    "print(df_juni_eds.shape)"
   ]
  },
  {
   "cell_type": "code",
   "execution_count": null,
   "id": "f78fb23c",
   "metadata": {},
   "outputs": [],
   "source": [
    "# Identifying old devices\n",
    "\n",
    "print(list(df_juni_eds['Umur Class'].unique()),'\\n')\n",
    "df_juni_eds_5 = df_juni_eds.loc[df_juni_eds['Umur Class'] == '5th - Up']\n",
    "print(df_juni_eds_5['Family'].unique(),'\\n')\n",
    "\n",
    "# Identifying over utilized devices\n",
    "df_juni_over = df_juni_eds.loc[df_juni_eds['Class_Utilisasi'] == '7% ~ Up']\n",
    "print(df_juni_over.shape,'\\n')\n",
    "cek = df_juni_over.groupby('Sales')['Unit'].sum()\n",
    "print(cek,'\\n')\n",
    "\n",
    "# Sales selling performance\n",
    "sales_perf = df_juni_eds.pivot_table(index='Sales', columns='SaTy', values='Unit', aggfunc='sum')\n",
    "print(sales_perf,'\\n', sales_perf.values.sum(),'\\n')\n",
    "\n",
    "# Mono vs CLR\n",
    "mono_clr = df_juni_eds.groupby('Mono/Color')['Unit'].sum()\n",
    "print(mono_clr,'\\n')\n",
    "\n",
    "# Devices in EOS Zone\n",
    "print(df_juni_eds['EOS'].unique(),'\\n')\n",
    "df_juni_eos = df_juni_eds.loc[(df_juni_eds['EOS'] == 'EOS') | (df_juni_eds['EOS'] == 'EOS Des 2024')]\n",
    "print(df_juni_eos.shape)"
   ]
  },
  {
   "cell_type": "code",
   "execution_count": null,
   "id": "3a0408f7",
   "metadata": {},
   "outputs": [],
   "source": [
    "path = r'D:\\\\Data Shelter\\Kerjaan\\\\Astragraphia\\\\BO1\\\\Revenue Analysis_jan-jul\\\\2023 Datasets\\\\MIF Juni Clean.xlsx'\n",
    "book = load_workbook(path)\n",
    "writer = pd.ExcelWriter(path, engine='openpyxl')\n",
    "writer.book = book\n",
    "df_juni_eds.to_excel(writer, sheet_name='Details (wo GCS)')\n",
    "df_sales_ind.to_excel(writer, sheet_name='Pivot Ind (wo GCS)')\n",
    "df_juni_eds_5.to_excel(writer, sheet_name='Oldies')\n",
    "df_juni_over.to_excel(writer, sheet_name='Overwork')\n",
    "sales_perf.to_excel(writer, sheet_name='Performance')\n",
    "mono_clr.to_excel(writer, sheet_name='Mono vs CLR')\n",
    "df_juni_eos.to_excel(writer, sheet_name='EOS')\n",
    "writer.close()"
   ]
  },
  {
   "cell_type": "code",
   "execution_count": null,
   "id": "ec0c7874",
   "metadata": {},
   "outputs": [],
   "source": [
    "gSpreadJune = gSpreadAuth.open_by_key('10m9Yl4R1jpbc72JaK8X7bQ5yfsPIZ0VD5nf9vzsc518')\n",
    "gSpread_details_rev = gSpreadJune.worksheet('Details')\n",
    "gSpreadJune = gSpread_details_rev.get_all_records()\n",
    "df_june_new = pd.DataFrame(gSpreadJune)\n",
    "df_june_new.info()"
   ]
  },
  {
   "cell_type": "code",
   "execution_count": null,
   "id": "fb5a79f5",
   "metadata": {},
   "outputs": [],
   "source": [
    "#Pivot\n",
    "df_june_new['desc'] = df_june_new['Industry Desc']\n",
    "df_ind_juni = df_june_new.pivot_table(index='Sales', columns='Industry Desc', values='Unit', aggfunc='sum').fillna(0).astype(int)\n",
    "df_june_new.drop(columns='desc', inplace=True)\n",
    "print(df_ind_juni,'\\n')\n",
    "\n",
    "# Identifying old devices\n",
    "print(list(df_june_new['Umur Class'].unique()),'\\n')\n",
    "df_juni_5 = df_june_new.loc[df_june_new['Umur Class'] == '5th - Up']\n",
    "print(df_juni_5['Family'].unique(),'\\n')\n",
    "\n",
    "# Identifying over utilized devices\n",
    "df_over = df_june_new.loc[df_june_new['Class_Utilisasi'] == '7% ~ Up']\n",
    "print(df_over.shape,'\\n')\n",
    "cek = df_over.groupby('Sales')['Unit'].sum()\n",
    "print(cek,'\\n')\n",
    "\n",
    "# Sales selling performance\n",
    "df_perf = df_june_new.pivot_table(index='Sales', columns='SaTy', values='Unit', aggfunc='sum')\n",
    "print(df_perf,'\\n', df_perf.values.sum(),'\\n')\n",
    "\n",
    "# Mono vs CLR\n",
    "monoVsClr = df_june_new.groupby('Mono/Color')['Unit'].sum()\n",
    "print(monoVsClr,'\\n')\n",
    "\n",
    "# Devices in EOS Zone\n",
    "print(df_june_new['EOS'].unique(),'\\n')\n",
    "juni_eos = df_june_new.loc[(df_june_new['EOS'] == 'EOS') | (df_june_new['EOS'] == 'EOS Des 2024')]\n",
    "print(juni_eos.shape)"
   ]
  },
  {
   "cell_type": "code",
   "execution_count": null,
   "id": "adbf64e1",
   "metadata": {},
   "outputs": [],
   "source": [
    "path = r'D:\\\\Data Shelter\\Kerjaan\\\\Astragraphia\\\\BO1\\\\Revenue Analysis_jan-jul\\\\2023 Datasets\\\\MIF Juni Clean - Copy.xlsx'\n",
    "book = load_workbook(path)\n",
    "writer = pd.ExcelWriter(path, engine='openpyxl')\n",
    "writer.book = book\n",
    "df_june_new.to_excel(writer, sheet_name='Details (wo GCS)')\n",
    "df_ind_juni.to_excel(writer, sheet_name='Pivot Ind (wo GCS)')\n",
    "df_juni_5.to_excel(writer, sheet_name='Oldies')\n",
    "df_over.to_excel(writer, sheet_name='Overwork')\n",
    "df_perf.to_excel(writer, sheet_name='Performance')\n",
    "monoVsClr.to_excel(writer, sheet_name='Mono vs CLR')\n",
    "juni_eos.to_excel(writer, sheet_name='EOS')\n",
    "writer.close()"
   ]
  },
  {
   "cell_type": "code",
   "execution_count": null,
   "id": "c344424d",
   "metadata": {},
   "outputs": [],
   "source": [
    "# New Mapping\n",
    "\n",
    "print(len(df_june_new['Acct'].unique()))\n",
    "df_june_ns = df_june_new[['Acct','Sales']]\n",
    "df_june_ns.drop_duplicates(subset='Acct', inplace=True)\n",
    "print(df_june_ns.shape)\n",
    "\n",
    "df_juni_rd = pd.read_excel(\n",
    "    r\"D:\\Data Shelter\\Kerjaan\\Astragraphia\\BO1\\Revenue Analysis_jan-jul\\2023 Datasets\\MIF Juni Clean.xlsx\",\n",
    "    sheet_name='Details'\n",
    ")"
   ]
  },
  {
   "cell_type": "code",
   "execution_count": null,
   "id": "1c8853be",
   "metadata": {},
   "outputs": [],
   "source": [
    "rd_sales_map = df_juni[['Acct','Sales']]\n",
    "rd_sales_map = rd_sales_map.astype({'Acct':str})\n",
    "rd_sales_dict = dict(rd_sales_map.values)\n",
    "df_juni_rd['Sales'] = df_juni_rd['Acct'].map(rd_sales_dict)\n",
    "print(rd_sales_map.info())\n",
    "print(df_juni_rd.info())"
   ]
  },
  {
   "cell_type": "code",
   "execution_count": null,
   "id": "2591b9a6",
   "metadata": {},
   "outputs": [],
   "source": [
    "path = r'D:\\\\Data Shelter\\Kerjaan\\\\Astragraphia\\\\BO1\\\\Revenue Analysis_jan-jul\\\\2023 Datasets\\\\MIF Juni Clean.xlsx'\n",
    "book = load_workbook(path)\n",
    "writer = pd.ExcelWriter(path, engine='openpyxl')\n",
    "writer.book = book\n",
    "df_juni_rd.to_excel(writer, sheet_name='Details')\n",
    "writer.close()"
   ]
  },
  {
   "cell_type": "code",
   "execution_count": null,
   "id": "53e88d89",
   "metadata": {},
   "outputs": [],
   "source": [
    "df_june_v = pd.read_excel(\n",
    "    r'D:\\\\Data Shelter\\Kerjaan\\\\Astragraphia\\\\BO1\\\\Revenue Analysis_jan-jul\\\\2023 Datasets\\\\MIF Juni Clean.xlsx',\n",
    "    sheet_name = 'Details'\n",
    ")\n",
    "df_june_sales_v = df_june_v[['Acct','Sales']].astype(str)\n",
    "df_june_sales_v.drop_duplicates(subset='Acct', inplace=True)\n",
    "\n",
    "path = r'D:\\\\Data Shelter\\Kerjaan\\\\Astragraphia\\\\BO1\\\\Revenue Analysis_jan-jul\\\\2023 Datasets\\\\MIF Juni Clean.xlsx'\n",
    "book = load_workbook(path)\n",
    "writer = pd.ExcelWriter(path, engine='openpyxl')\n",
    "writer.book = book\n",
    "df_june_sales_v.to_excel(writer, sheet_name='Acct mapping')\n",
    "writer.close()"
   ]
  }
 ],
 "metadata": {
  "kernelspec": {
   "display_name": "Python 3",
   "language": "python",
   "name": "python3"
  },
  "language_info": {
   "codemirror_mode": {
    "name": "ipython",
    "version": 3
   },
   "file_extension": ".py",
   "mimetype": "text/x-python",
   "name": "python",
   "nbconvert_exporter": "python",
   "pygments_lexer": "ipython3",
   "version": "3.8.8"
  }
 },
 "nbformat": 4,
 "nbformat_minor": 5
}
