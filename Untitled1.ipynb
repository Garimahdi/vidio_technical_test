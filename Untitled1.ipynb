{
 "cells": [
  {
   "cell_type": "code",
   "execution_count": 1,
   "id": "46130250",
   "metadata": {},
   "outputs": [
    {
     "name": "stdout",
     "output_type": "stream",
     "text": [
      "Collecting indexed-gzipNote: you may need to restart the kernel to use updated packages.\n",
      "  Downloading indexed_gzip-1.8.7-cp38-cp38-win_amd64.whl (365 kB)\n",
      "Installing collected packages: indexed-gzip\n",
      "Successfully installed indexed-gzip-1.8.7\n",
      "\n"
     ]
    }
   ],
   "source": [
    "pip install indexed-gzip"
   ]
  },
  {
   "cell_type": "code",
   "execution_count": 3,
   "id": "26601a77",
   "metadata": {},
   "outputs": [
    {
     "name": "stdout",
     "output_type": "stream",
     "text": [
      "Collecting google-cloud\n",
      "  Downloading google_cloud-0.34.0-py2.py3-none-any.whl (1.8 kB)\n",
      "Installing collected packages: google-cloud\n",
      "Successfully installed google-cloud-0.34.0\n",
      "Note: you may need to restart the kernel to use updated packages.\n"
     ]
    }
   ],
   "source": [
    "pip install google-cloud"
   ]
  },
  {
   "cell_type": "code",
   "execution_count": 4,
   "id": "a816fb30",
   "metadata": {},
   "outputs": [
    {
     "name": "stdout",
     "output_type": "stream",
     "text": [
      "Collecting Python-IO\n",
      "  Downloading Python_IO-0.3.tar.gz (1.7 kB)\n",
      "Collecting customtkinter\n",
      "  Downloading customtkinter-5.2.2-py3-none-any.whl (296 kB)\n",
      "Requirement already satisfied: requests in d:\\data_science_files\\lib\\site-packages (from Python-IO) (2.25.1)\n",
      "Collecting darkdetect\n",
      "  Downloading darkdetect-0.8.0-py3-none-any.whl (9.0 kB)\n",
      "Requirement already satisfied: packaging in d:\\data_science_files\\lib\\site-packages (from customtkinter->Python-IO) (20.9)\n",
      "Requirement already satisfied: pyparsing>=2.0.2 in d:\\data_science_files\\lib\\site-packages (from packaging->customtkinter->Python-IO) (2.4.7)\n",
      "Requirement already satisfied: idna<3,>=2.5 in d:\\data_science_files\\lib\\site-packages (from requests->Python-IO) (2.10)\n",
      "Requirement already satisfied: urllib3<1.27,>=1.21.1 in d:\\data_science_files\\lib\\site-packages (from requests->Python-IO) (1.26.4)\n",
      "Requirement already satisfied: chardet<5,>=3.0.2 in d:\\data_science_files\\lib\\site-packages (from requests->Python-IO) (4.0.0)\n",
      "Requirement already satisfied: certifi>=2017.4.17 in d:\\data_science_files\\lib\\site-packages (from requests->Python-IO) (2020.12.5)\n",
      "Building wheels for collected packages: Python-IO\n",
      "  Building wheel for Python-IO (setup.py): started\n",
      "  Building wheel for Python-IO (setup.py): finished with status 'done'\n",
      "  Created wheel for Python-IO: filename=Python_IO-0.3-py3-none-any.whl size=1658 sha256=3a64cfa7b79c53a8a56dc1ff5d12b1702405e94b5da6dc8aa9ce5a443f1f21ef\n",
      "  Stored in directory: c:\\users\\lenovo\\appdata\\local\\pip\\cache\\wheels\\05\\78\\fa\\669d37494835db3d038d38f656bd51b1322b1b91ac392ea79f\n",
      "Successfully built Python-IO\n",
      "Installing collected packages: darkdetect, customtkinter, Python-IO\n",
      "Successfully installed Python-IO-0.3 customtkinter-5.2.2 darkdetect-0.8.0\n",
      "Note: you may need to restart the kernel to use updated packages.\n"
     ]
    }
   ],
   "source": [
    "pip install Python-IO"
   ]
  },
  {
   "cell_type": "code",
   "execution_count": 5,
   "id": "70f1ddb0",
   "metadata": {},
   "outputs": [
    {
     "name": "stdout",
     "output_type": "stream",
     "text": [
      "Collecting google-cloud-storage\n",
      "  Downloading google_cloud_storage-2.17.0-py2.py3-none-any.whl (126 kB)\n",
      "Requirement already satisfied: google-cloud-core<3.0dev,>=2.3.0 in d:\\data_science_files\\lib\\site-packages (from google-cloud-storage) (2.4.1)\n",
      "Collecting google-api-core<3.0.0dev,>=2.15.0\n",
      "  Downloading google_api_core-2.19.0-py3-none-any.whl (139 kB)\n",
      "Requirement already satisfied: google-resumable-media>=2.6.0 in d:\\data_science_files\\lib\\site-packages (from google-cloud-storage) (2.7.0)\n",
      "Requirement already satisfied: requests<3.0.0dev,>=2.18.0 in d:\\data_science_files\\lib\\site-packages (from google-cloud-storage) (2.25.1)\n",
      "Collecting google-auth<3.0dev,>=2.26.1\n",
      "  Downloading google_auth-2.30.0-py2.py3-none-any.whl (193 kB)\n",
      "Requirement already satisfied: google-crc32c<2.0dev,>=1.0 in d:\\data_science_files\\lib\\site-packages (from google-cloud-storage) (1.5.0)\n",
      "Requirement already satisfied: googleapis-common-protos<2.0.dev0,>=1.56.2 in d:\\data_science_files\\lib\\site-packages (from google-api-core<3.0.0dev,>=2.15.0->google-cloud-storage) (1.59.0)\n",
      "Requirement already satisfied: protobuf!=3.20.0,!=3.20.1,!=4.21.0,!=4.21.1,!=4.21.2,!=4.21.3,!=4.21.4,!=4.21.5,<5.0.0.dev0,>=3.19.5 in d:\\data_science_files\\lib\\site-packages (from google-api-core<3.0.0dev,>=2.15.0->google-cloud-storage) (4.23.1)\n",
      "Requirement already satisfied: proto-plus<2.0.0dev,>=1.22.3 in d:\\data_science_files\\lib\\site-packages (from google-api-core<3.0.0dev,>=2.15.0->google-cloud-storage) (1.23.0)\n",
      "Requirement already satisfied: cachetools<6.0,>=2.0.0 in d:\\data_science_files\\lib\\site-packages (from google-auth<3.0dev,>=2.26.1->google-cloud-storage) (5.3.0)\n",
      "Requirement already satisfied: pyasn1-modules>=0.2.1 in d:\\data_science_files\\lib\\site-packages (from google-auth<3.0dev,>=2.26.1->google-cloud-storage) (0.2.7)\n",
      "Requirement already satisfied: rsa<5,>=3.1.4 in d:\\data_science_files\\lib\\site-packages (from google-auth<3.0dev,>=2.26.1->google-cloud-storage) (4.9)\n",
      "Requirement already satisfied: pyasn1<0.5.0,>=0.4.6 in d:\\data_science_files\\lib\\site-packages (from pyasn1-modules>=0.2.1->google-auth<3.0dev,>=2.26.1->google-cloud-storage) (0.4.8)\n",
      "Requirement already satisfied: certifi>=2017.4.17 in d:\\data_science_files\\lib\\site-packages (from requests<3.0.0dev,>=2.18.0->google-cloud-storage) (2020.12.5)\n",
      "Requirement already satisfied: idna<3,>=2.5 in d:\\data_science_files\\lib\\site-packages (from requests<3.0.0dev,>=2.18.0->google-cloud-storage) (2.10)\n",
      "Requirement already satisfied: chardet<5,>=3.0.2 in d:\\data_science_files\\lib\\site-packages (from requests<3.0.0dev,>=2.18.0->google-cloud-storage) (4.0.0)\n",
      "Requirement already satisfied: urllib3<1.27,>=1.21.1 in d:\\data_science_files\\lib\\site-packages (from requests<3.0.0dev,>=2.18.0->google-cloud-storage) (1.26.4)\n",
      "Installing collected packages: google-auth, google-api-core, google-cloud-storage\n",
      "  Attempting uninstall: google-auth\n",
      "    Found existing installation: google-auth 2.18.1\n",
      "    Uninstalling google-auth-2.18.1:\n",
      "      Successfully uninstalled google-auth-2.18.1\n",
      "  Attempting uninstall: google-api-core\n",
      "    Found existing installation: google-api-core 2.11.0\n",
      "    Uninstalling google-api-core-2.11.0:\n",
      "      Successfully uninstalled google-api-core-2.11.0\n",
      "Successfully installed google-api-core-2.19.0 google-auth-2.30.0 google-cloud-storage-2.17.0\n",
      "Note: you may need to restart the kernel to use updated packages.\n"
     ]
    }
   ],
   "source": [
    "pip install --upgrade google-cloud-storage"
   ]
  }
 ],
 "metadata": {
  "kernelspec": {
   "display_name": "Python 3",
   "language": "python",
   "name": "python3"
  },
  "language_info": {
   "codemirror_mode": {
    "name": "ipython",
    "version": 3
   },
   "file_extension": ".py",
   "mimetype": "text/x-python",
   "name": "python",
   "nbconvert_exporter": "python",
   "pygments_lexer": "ipython3",
   "version": "3.8.8"
  }
 },
 "nbformat": 4,
 "nbformat_minor": 5
}
